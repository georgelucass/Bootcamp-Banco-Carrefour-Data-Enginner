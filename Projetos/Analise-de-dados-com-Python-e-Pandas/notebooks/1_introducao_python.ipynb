{
  "nbformat": 4,
  "nbformat_minor": 2,
  "metadata": {
    "colab": {
      "name": "Aula1_Introducao_Python.ipynb",
      "provenance": []
    },
    "kernelspec": {
      "name": "python3",
      "display_name": "Python 3"
    }
  },
  "cells": [
    {
      "cell_type": "code",
      "execution_count": 1,
      "source": [
        "print(\"Olá Mundo\")"
      ],
      "outputs": [
        {
          "output_type": "stream",
          "name": "stdout",
          "text": [
            "Olá Mundo\n"
          ]
        }
      ],
      "metadata": {
        "id": "dhIMqjrJnCeo",
        "colab_type": "code",
        "colab": {
          "base_uri": "https://localhost:8080/",
          "height": 34
        },
        "outputId": "3304e360-8b8c-42a3-bd8c-0f31f20834fd"
      }
    },
    {
      "cell_type": "code",
      "execution_count": 3,
      "source": [
        "print(\"Estou aprendendo Python\")"
      ],
      "outputs": [
        {
          "output_type": "stream",
          "name": "stdout",
          "text": [
            "Estou aprendendo Python\n"
          ]
        }
      ],
      "metadata": {
        "id": "9obH1AwvnSZm",
        "colab_type": "code",
        "colab": {
          "base_uri": "https://localhost:8080/",
          "height": 34
        },
        "outputId": "05364c45-f491-468d-854b-1e0bdc5782b4"
      }
    },
    {
      "cell_type": "code",
      "execution_count": 4,
      "source": [
        "\"Estou aprendendo Python\""
      ],
      "outputs": [
        {
          "output_type": "execute_result",
          "data": {
            "text/plain": [
              "'Estou aprendendo Python'"
            ]
          },
          "metadata": {
            "tags": []
          },
          "execution_count": 4
        }
      ],
      "metadata": {
        "id": "m5QR6IFzndBI",
        "colab_type": "code",
        "colab": {
          "base_uri": "https://localhost:8080/",
          "height": 34
        },
        "outputId": "081c0f35-0827-4c7f-eedb-c1b8b1282aba"
      }
    },
    {
      "cell_type": "code",
      "execution_count": 5,
      "source": [
        "1 + 1"
      ],
      "outputs": [
        {
          "output_type": "execute_result",
          "data": {
            "text/plain": [
              "2"
            ]
          },
          "metadata": {
            "tags": []
          },
          "execution_count": 5
        }
      ],
      "metadata": {
        "id": "Ndi2z1q3nf1V",
        "colab_type": "code",
        "colab": {
          "base_uri": "https://localhost:8080/",
          "height": 34
        },
        "outputId": "f9f6236d-e55e-47cb-c0fd-6a072e0616c7"
      }
    },
    {
      "cell_type": "code",
      "execution_count": 6,
      "source": [
        "10 - 2"
      ],
      "outputs": [
        {
          "output_type": "execute_result",
          "data": {
            "text/plain": [
              "8"
            ]
          },
          "metadata": {
            "tags": []
          },
          "execution_count": 6
        }
      ],
      "metadata": {
        "id": "yQwB0lfEnpww",
        "colab_type": "code",
        "colab": {
          "base_uri": "https://localhost:8080/",
          "height": 34
        },
        "outputId": "b66091c9-bf37-46c4-d994-c74135f73e7d"
      }
    },
    {
      "cell_type": "code",
      "execution_count": null,
      "source": [
        "#Esse é um comentário em Python"
      ],
      "outputs": [],
      "metadata": {
        "id": "Nf_MDyjqnsDV",
        "colab_type": "code",
        "colab": {}
      }
    },
    {
      "cell_type": "code",
      "execution_count": 8,
      "source": [
        "#Multiplicação\r\n",
        "2 * 2"
      ],
      "outputs": [
        {
          "output_type": "execute_result",
          "data": {
            "text/plain": [
              "4"
            ]
          },
          "metadata": {
            "tags": []
          },
          "execution_count": 8
        }
      ],
      "metadata": {
        "id": "5h0x8aAjnz92",
        "colab_type": "code",
        "colab": {
          "base_uri": "https://localhost:8080/",
          "height": 34
        },
        "outputId": "21b2dc6e-7719-421e-c37c-e17b18133fb5"
      }
    },
    {
      "cell_type": "code",
      "execution_count": 9,
      "source": [
        "#Divisão\r\n",
        "10/2"
      ],
      "outputs": [
        {
          "output_type": "execute_result",
          "data": {
            "text/plain": [
              "5.0"
            ]
          },
          "metadata": {
            "tags": []
          },
          "execution_count": 9
        }
      ],
      "metadata": {
        "id": "87rcOMCXn7h8",
        "colab_type": "code",
        "colab": {
          "base_uri": "https://localhost:8080/",
          "height": 34
        },
        "outputId": "589fb28a-ae0e-4bae-90f4-a72689c33f31"
      }
    },
    {
      "cell_type": "code",
      "execution_count": null,
      "source": [
        "#Declaração de variável\r\n",
        "a = 4\r\n",
        "b = 6"
      ],
      "outputs": [],
      "metadata": {
        "id": "LVV58GH0n-eu",
        "colab_type": "code",
        "colab": {}
      }
    },
    {
      "cell_type": "code",
      "execution_count": 11,
      "source": [
        "a + b"
      ],
      "outputs": [
        {
          "output_type": "execute_result",
          "data": {
            "text/plain": [
              "10"
            ]
          },
          "metadata": {
            "tags": []
          },
          "execution_count": 11
        }
      ],
      "metadata": {
        "id": "VwZSfZYuoJaV",
        "colab_type": "code",
        "colab": {
          "base_uri": "https://localhost:8080/",
          "height": 34
        },
        "outputId": "38664259-4b1f-49f4-d1fe-f9604e3d15c7"
      }
    },
    {
      "cell_type": "code",
      "execution_count": null,
      "source": [
        "#Criando uma variável do tipo string\r\n",
        "frase = \"Python para análise de dados\""
      ],
      "outputs": [],
      "metadata": {
        "id": "2pK5z3YUoOpF",
        "colab_type": "code",
        "colab": {}
      }
    },
    {
      "cell_type": "code",
      "execution_count": 13,
      "source": [
        "#Primeiro caractere da string\r\n",
        "frase[0]"
      ],
      "outputs": [
        {
          "output_type": "execute_result",
          "data": {
            "text/plain": [
              "'P'"
            ]
          },
          "metadata": {
            "tags": []
          },
          "execution_count": 13
        }
      ],
      "metadata": {
        "id": "pHzUyecgoaYN",
        "colab_type": "code",
        "colab": {
          "base_uri": "https://localhost:8080/",
          "height": 34
        },
        "outputId": "3a39c4b0-415e-470e-e1c1-f07a89fa901d"
      }
    },
    {
      "cell_type": "code",
      "execution_count": 14,
      "source": [
        "frase[0:10]"
      ],
      "outputs": [
        {
          "output_type": "execute_result",
          "data": {
            "text/plain": [
              "'Python par'"
            ]
          },
          "metadata": {
            "tags": []
          },
          "execution_count": 14
        }
      ],
      "metadata": {
        "id": "cy1POOCzojp6",
        "colab_type": "code",
        "colab": {
          "base_uri": "https://localhost:8080/",
          "height": 34
        },
        "outputId": "c00a2795-c719-4403-c315-f416801f42e6"
      }
    },
    {
      "cell_type": "code",
      "execution_count": 15,
      "source": [
        "frase[10:]"
      ],
      "outputs": [
        {
          "output_type": "execute_result",
          "data": {
            "text/plain": [
              "'a análise de dados'"
            ]
          },
          "metadata": {
            "tags": []
          },
          "execution_count": 15
        }
      ],
      "metadata": {
        "id": "PE6ae8vYorQ6",
        "colab_type": "code",
        "colab": {
          "base_uri": "https://localhost:8080/",
          "height": 34
        },
        "outputId": "8399af34-e066-49c6-9a54-205cbe8d72d7"
      }
    },
    {
      "cell_type": "code",
      "execution_count": 16,
      "source": [
        "frase[:17]"
      ],
      "outputs": [
        {
          "output_type": "execute_result",
          "data": {
            "text/plain": [
              "'Python para análi'"
            ]
          },
          "metadata": {
            "tags": []
          },
          "execution_count": 16
        }
      ],
      "metadata": {
        "id": "yR_S-1Hgo3MV",
        "colab_type": "code",
        "colab": {
          "base_uri": "https://localhost:8080/",
          "height": 34
        },
        "outputId": "07e96832-c627-4245-e8be-ddf24e1836a1"
      }
    },
    {
      "cell_type": "code",
      "execution_count": 17,
      "source": [
        "#Buscando um conjunto de caracteres ou palavra na frase\r\n",
        "frase.count(\"dados\")"
      ],
      "outputs": [
        {
          "output_type": "execute_result",
          "data": {
            "text/plain": [
              "1"
            ]
          },
          "metadata": {
            "tags": []
          },
          "execution_count": 17
        }
      ],
      "metadata": {
        "id": "m7I4K_SOo8fx",
        "colab_type": "code",
        "colab": {
          "base_uri": "https://localhost:8080/",
          "height": 34
        },
        "outputId": "841b70d7-91e7-42b2-d8a1-1373ce81b986"
      }
    },
    {
      "cell_type": "code",
      "execution_count": 18,
      "source": [
        "#Colocando a string em caixa baixa\r\n",
        "frase.lower()"
      ],
      "outputs": [
        {
          "output_type": "execute_result",
          "data": {
            "text/plain": [
              "'python para análise de dados'"
            ]
          },
          "metadata": {
            "tags": []
          },
          "execution_count": 18
        }
      ],
      "metadata": {
        "id": "O3CtWuespFRj",
        "colab_type": "code",
        "colab": {
          "base_uri": "https://localhost:8080/",
          "height": 34
        },
        "outputId": "d5660843-5c84-4077-d41d-915e9ca1476a"
      }
    },
    {
      "cell_type": "code",
      "execution_count": null,
      "source": [
        "#String em caixa alta\r\n",
        "frase = frase.upper()"
      ],
      "outputs": [],
      "metadata": {
        "id": "XINFFY3npMCQ",
        "colab_type": "code",
        "colab": {}
      }
    },
    {
      "cell_type": "code",
      "execution_count": 20,
      "source": [
        "#Substituição na string\r\n",
        "frase.replace(\"Python\",\"Frases\")"
      ],
      "outputs": [
        {
          "output_type": "execute_result",
          "data": {
            "text/plain": [
              "'Frases para análise de dados'"
            ]
          },
          "metadata": {
            "tags": []
          },
          "execution_count": 20
        }
      ],
      "metadata": {
        "id": "BYCCspy4pQZI",
        "colab_type": "code",
        "colab": {
          "base_uri": "https://localhost:8080/",
          "height": 34
        },
        "outputId": "2af62915-ee87-44d1-ac7e-9b965ef6d0fb"
      }
    },
    {
      "cell_type": "code",
      "execution_count": 22,
      "source": [
        "#Print da nova string\r\n",
        "frase"
      ],
      "outputs": [
        {
          "output_type": "execute_result",
          "data": {
            "text/plain": [
              "'PYTHON PARA ANÁLISE DE DADOS'"
            ]
          },
          "metadata": {
            "tags": []
          },
          "execution_count": 22
        }
      ],
      "metadata": {
        "id": "DRe_C_y6ppzZ",
        "colab_type": "code",
        "colab": {
          "base_uri": "https://localhost:8080/",
          "height": 34
        },
        "outputId": "fd4f8e59-2e82-46c9-802f-995ff2211ec6"
      }
    }
  ]
}