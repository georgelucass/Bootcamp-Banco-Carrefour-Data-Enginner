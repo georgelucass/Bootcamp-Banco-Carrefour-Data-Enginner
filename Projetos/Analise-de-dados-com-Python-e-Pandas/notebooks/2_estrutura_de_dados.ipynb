{
  "nbformat": 4,
  "nbformat_minor": 2,
  "metadata": {
    "colab": {
      "name": "Estrutura_de_dados.ipynb",
      "provenance": []
    },
    "kernelspec": {
      "name": "python3",
      "display_name": "Python 3"
    }
  },
  "cells": [
    {
      "cell_type": "markdown",
      "source": [
        "# **Curso Python Para Análise de dados**"
      ],
      "metadata": {
        "id": "K-N4ha5EG6ky",
        "colab_type": "text"
      }
    },
    {
      "cell_type": "markdown",
      "source": [
        "# **Estrutura de dados**"
      ],
      "metadata": {
        "id": "P5yjJd4Se7a8",
        "colab_type": "text"
      }
    },
    {
      "cell_type": "markdown",
      "source": [
        "## **Listas**"
      ],
      "metadata": {
        "id": "0VKL1NCNhUfG",
        "colab_type": "text"
      }
    },
    {
      "cell_type": "code",
      "execution_count": 3,
      "source": [
        "#Criando uma lista chamada animais\r\n",
        "animais = [1,2,3]\r\n",
        "animais"
      ],
      "outputs": [
        {
          "output_type": "execute_result",
          "data": {
            "text/plain": [
              "[1, 2, 3]"
            ]
          },
          "metadata": {
            "tags": []
          },
          "execution_count": 3
        }
      ],
      "metadata": {
        "id": "XHAFPHWmfFoB",
        "colab_type": "code",
        "colab": {
          "base_uri": "https://localhost:8080/",
          "height": 34
        },
        "outputId": "5dbb8e99-09ba-40db-f848-f2395ded9c73"
      }
    },
    {
      "cell_type": "code",
      "execution_count": 4,
      "source": [
        "#Lista com strings\r\n",
        "animais = [\"cachorro\", \"gato\", 12345, 6.5]\r\n",
        "animais"
      ],
      "outputs": [
        {
          "output_type": "execute_result",
          "data": {
            "text/plain": [
              "['cachorro', 'gato', 12345, 6.5]"
            ]
          },
          "metadata": {
            "tags": []
          },
          "execution_count": 4
        }
      ],
      "metadata": {
        "id": "5v-w_ftdga0J",
        "colab_type": "code",
        "colab": {
          "base_uri": "https://localhost:8080/",
          "height": 34
        },
        "outputId": "8ded31ab-a939-4f4d-caac-ef0a281bcfb6"
      }
    },
    {
      "cell_type": "code",
      "execution_count": 5,
      "source": [
        "#Imprimindo o primeiro elemento da lista\r\n",
        "animais[0]"
      ],
      "outputs": [
        {
          "output_type": "execute_result",
          "data": {
            "text/plain": [
              "'cachorro'"
            ]
          },
          "metadata": {
            "tags": []
          },
          "execution_count": 5
        }
      ],
      "metadata": {
        "id": "bJkOFrGfgrKR",
        "colab_type": "code",
        "colab": {
          "base_uri": "https://localhost:8080/",
          "height": 34
        },
        "outputId": "273b6c48-3245-47d8-b8d4-e37865e52b21"
      }
    },
    {
      "cell_type": "code",
      "execution_count": 6,
      "source": [
        "#Imprimindo o 4 elemento da lista\r\n",
        "animais[3]"
      ],
      "outputs": [
        {
          "output_type": "execute_result",
          "data": {
            "text/plain": [
              "6.5"
            ]
          },
          "metadata": {
            "tags": []
          },
          "execution_count": 6
        }
      ],
      "metadata": {
        "id": "M-2mXu3mgvuS",
        "colab_type": "code",
        "colab": {
          "base_uri": "https://localhost:8080/",
          "height": 34
        },
        "outputId": "81236f47-7507-4682-ee71-96d05ad1eb41"
      }
    },
    {
      "cell_type": "code",
      "execution_count": null,
      "source": [
        "#Substituindo o primeiro elemento da lista\r\n",
        "animais[0] = \"papagaio\""
      ],
      "outputs": [],
      "metadata": {
        "id": "RDCW4hs_gxyT",
        "colab_type": "code",
        "colab": {}
      }
    },
    {
      "cell_type": "code",
      "execution_count": 8,
      "source": [
        "#Print da lista\r\n",
        "animais"
      ],
      "outputs": [
        {
          "output_type": "execute_result",
          "data": {
            "text/plain": [
              "['papagaio', 'gato', 12345, 6.5]"
            ]
          },
          "metadata": {
            "tags": []
          },
          "execution_count": 8
        }
      ],
      "metadata": {
        "id": "QJrP-830gzvh",
        "colab_type": "code",
        "colab": {
          "base_uri": "https://localhost:8080/",
          "height": 34
        },
        "outputId": "e69ecaaa-d6a3-48ee-e08a-33b3c2417ad8"
      }
    },
    {
      "cell_type": "code",
      "execution_count": null,
      "source": [
        "#Removendo gato da lista\r\n",
        "animais.remove(\"gato\")"
      ],
      "outputs": [],
      "metadata": {
        "id": "3QFbAI6Og0wP",
        "colab_type": "code",
        "colab": {}
      }
    },
    {
      "cell_type": "code",
      "execution_count": 10,
      "source": [
        "#Print da nova lista\r\n",
        "animais"
      ],
      "outputs": [
        {
          "output_type": "execute_result",
          "data": {
            "text/plain": [
              "['papagaio', 12345, 6.5]"
            ]
          },
          "metadata": {
            "tags": []
          },
          "execution_count": 10
        }
      ],
      "metadata": {
        "id": "b8g1bs42g31p",
        "colab_type": "code",
        "colab": {
          "base_uri": "https://localhost:8080/",
          "height": 34
        },
        "outputId": "c4fa21bc-0375-4c4f-d645-1fa535ac3559"
      }
    },
    {
      "cell_type": "code",
      "execution_count": 11,
      "source": [
        "#Tamanho da lista\r\n",
        "len(animais)"
      ],
      "outputs": [
        {
          "output_type": "execute_result",
          "data": {
            "text/plain": [
              "3"
            ]
          },
          "metadata": {
            "tags": []
          },
          "execution_count": 11
        }
      ],
      "metadata": {
        "id": "xfu4p_g3g7OS",
        "colab_type": "code",
        "colab": {
          "base_uri": "https://localhost:8080/",
          "height": 34
        },
        "outputId": "1a511e7d-4616-4fe1-eaab-154d1b8a84d1"
      }
    },
    {
      "cell_type": "code",
      "execution_count": 12,
      "source": [
        "#Busca na lista\r\n",
        "\"gato\" in animais"
      ],
      "outputs": [
        {
          "output_type": "execute_result",
          "data": {
            "text/plain": [
              "False"
            ]
          },
          "metadata": {
            "tags": []
          },
          "execution_count": 12
        }
      ],
      "metadata": {
        "id": "0HedcjoFg-5m",
        "colab_type": "code",
        "colab": {
          "base_uri": "https://localhost:8080/",
          "height": 34
        },
        "outputId": "04ebec34-a75f-404a-b719-0ca710a24059"
      }
    },
    {
      "cell_type": "code",
      "execution_count": null,
      "source": [
        "#Criação de outra lista\r\n",
        "lista = [500, 30, 300, 80, 10]"
      ],
      "outputs": [],
      "metadata": {
        "id": "VDZ6nZU2hDdf",
        "colab_type": "code",
        "colab": {}
      }
    },
    {
      "cell_type": "code",
      "execution_count": 14,
      "source": [
        "#Maior valor da lista\r\n",
        "max(lista)"
      ],
      "outputs": [
        {
          "output_type": "execute_result",
          "data": {
            "text/plain": [
              "500"
            ]
          },
          "metadata": {
            "tags": []
          },
          "execution_count": 14
        }
      ],
      "metadata": {
        "id": "VjrYRfHJhGhL",
        "colab_type": "code",
        "colab": {
          "base_uri": "https://localhost:8080/",
          "height": 34
        },
        "outputId": "ad010fc6-b64f-4b11-ec1c-67ef22b93da0"
      }
    },
    {
      "cell_type": "code",
      "execution_count": 15,
      "source": [
        "#Menor valor da lista\r\n",
        "min(lista)"
      ],
      "outputs": [
        {
          "output_type": "execute_result",
          "data": {
            "text/plain": [
              "10"
            ]
          },
          "metadata": {
            "tags": []
          },
          "execution_count": 15
        }
      ],
      "metadata": {
        "id": "jkeXKWQPhJRr",
        "colab_type": "code",
        "colab": {
          "base_uri": "https://localhost:8080/",
          "height": 34
        },
        "outputId": "b8d73be6-aa7f-4129-bd57-9a8c294d5c77"
      }
    },
    {
      "cell_type": "code",
      "execution_count": null,
      "source": [
        "#Adicionar elementos a lista\r\n",
        "animais.append([\"leão\", \"Cachorro\"])"
      ],
      "outputs": [],
      "metadata": {
        "id": "20T_hCwAhMsU",
        "colab_type": "code",
        "colab": {}
      }
    },
    {
      "cell_type": "code",
      "execution_count": 20,
      "source": [
        "#Print da nova lista animais, em que o .append não suporta a adição de dois elementos no mesmo comando, retornando então uma lista dentro da lista\r\n",
        "animais"
      ],
      "outputs": [
        {
          "output_type": "execute_result",
          "data": {
            "text/plain": [
              "['papagaio', 12345, 6.5, 'leão', ['leão', 'Cachorro']]"
            ]
          },
          "metadata": {
            "tags": []
          },
          "execution_count": 20
        }
      ],
      "metadata": {
        "id": "WgWWMNJXhQdB",
        "colab_type": "code",
        "colab": {
          "base_uri": "https://localhost:8080/",
          "height": 34
        },
        "outputId": "b2a0495e-b1ee-469d-bae5-e771c20e1efb"
      }
    },
    {
      "cell_type": "code",
      "execution_count": null,
      "source": [
        "#Logo, usamos o .extend para adicionar novos elementos a lista em um único comando\r\n",
        "animais.extend([\"cobra\", 6])"
      ],
      "outputs": [],
      "metadata": {
        "id": "Cl-M69f5hSsD",
        "colab_type": "code",
        "colab": {}
      }
    },
    {
      "cell_type": "code",
      "execution_count": 22,
      "source": [
        "#Print da nova lista\r\n",
        "animais"
      ],
      "outputs": [
        {
          "output_type": "execute_result",
          "data": {
            "text/plain": [
              "['papagaio', 12345, 6.5, 'leão', ['leão', 'Cachorro'], 'cobra', 6]"
            ]
          },
          "metadata": {
            "tags": []
          },
          "execution_count": 22
        }
      ],
      "metadata": {
        "id": "_scJEZbWMFBW",
        "colab_type": "code",
        "colab": {
          "base_uri": "https://localhost:8080/",
          "height": 34
        },
        "outputId": "9ae58baf-1d1c-408d-9026-4a74e5a7f4a4"
      }
    },
    {
      "cell_type": "code",
      "execution_count": 24,
      "source": [
        "#Retorna a contagem da busca feita na lista\r\n",
        "animais.count(\"leão\")"
      ],
      "outputs": [
        {
          "output_type": "execute_result",
          "data": {
            "text/plain": [
              "1"
            ]
          },
          "metadata": {
            "tags": []
          },
          "execution_count": 24
        }
      ],
      "metadata": {
        "id": "kNn0DiyxheHC",
        "colab_type": "code",
        "colab": {
          "base_uri": "https://localhost:8080/",
          "height": 34
        },
        "outputId": "b4a75f67-c2f5-4972-9ee1-17c6481c394a"
      }
    },
    {
      "cell_type": "code",
      "execution_count": null,
      "source": [
        "#Ordenar a lista\r\n",
        "lista.sort()"
      ],
      "outputs": [],
      "metadata": {
        "id": "VgoLBevzhinC",
        "colab_type": "code",
        "colab": {}
      }
    },
    {
      "cell_type": "code",
      "execution_count": 26,
      "source": [
        "#Print com a lista ordenada\r\n",
        "lista"
      ],
      "outputs": [
        {
          "output_type": "execute_result",
          "data": {
            "text/plain": [
              "[10, 30, 80, 300, 500]"
            ]
          },
          "metadata": {
            "tags": []
          },
          "execution_count": 26
        }
      ],
      "metadata": {
        "id": "mPJTKqXMhrDB",
        "colab_type": "code",
        "colab": {
          "base_uri": "https://localhost:8080/",
          "height": 34
        },
        "outputId": "aaa017a3-80a9-47ae-895a-63d6de385d18"
      }
    },
    {
      "cell_type": "markdown",
      "source": [
        "# **Tuplas**"
      ],
      "metadata": {
        "id": "VHmSI4EcoX-h",
        "colab_type": "text"
      }
    },
    {
      "cell_type": "code",
      "execution_count": null,
      "source": [
        "#As tuplas usam parênteses como sintaxe, são limitadas também\r\n",
        "tp = (\"Banana\", \"Maçã\", 10, 50)"
      ],
      "outputs": [],
      "metadata": {
        "id": "Qrv07mzWocDT",
        "colab_type": "code",
        "colab": {}
      }
    },
    {
      "cell_type": "code",
      "execution_count": 28,
      "source": [
        "#Retornando o primeiro elemento\r\n",
        "tp[0]"
      ],
      "outputs": [
        {
          "output_type": "execute_result",
          "data": {
            "text/plain": [
              "'Banana'"
            ]
          },
          "metadata": {
            "tags": []
          },
          "execution_count": 28
        }
      ],
      "metadata": {
        "id": "r7ZMMLn8pt7R",
        "colab_type": "code",
        "colab": {
          "base_uri": "https://localhost:8080/",
          "height": 34
        },
        "outputId": "d2ad4094-b8d6-489f-a605-36c4b569bd8b"
      }
    },
    {
      "cell_type": "code",
      "execution_count": 29,
      "source": [
        "#Diferente das listas as tuplas são imutáveis, o que quer dizer que não podemos alterar os seus elementos, um erro é esperado nesta linha\r\n",
        "tp[0] = \"Laranja\""
      ],
      "outputs": [
        {
          "output_type": "error",
          "ename": "TypeError",
          "evalue": "ignored",
          "traceback": [
            "\u001b[0;31m---------------------------------------------------------------------------\u001b[0m",
            "\u001b[0;31mTypeError\u001b[0m                                 Traceback (most recent call last)",
            "\u001b[0;32m<ipython-input-29-9264cd18bf8a>\u001b[0m in \u001b[0;36m<module>\u001b[0;34m()\u001b[0m\n\u001b[1;32m      1\u001b[0m \u001b[0;31m#Diferente das listas as tuplas são imutáveis, o que quer dizer que não podemos alterar os seus elementos\u001b[0m\u001b[0;34m\u001b[0m\u001b[0;34m\u001b[0m\u001b[0;34m\u001b[0m\u001b[0m\n\u001b[0;32m----> 2\u001b[0;31m \u001b[0mtp\u001b[0m\u001b[0;34m[\u001b[0m\u001b[0;36m0\u001b[0m\u001b[0;34m]\u001b[0m \u001b[0;34m=\u001b[0m \u001b[0;34m\"Laranja\"\u001b[0m\u001b[0;34m\u001b[0m\u001b[0;34m\u001b[0m\u001b[0m\n\u001b[0m",
            "\u001b[0;31mTypeError\u001b[0m: 'tuple' object does not support item assignment"
          ]
        }
      ],
      "metadata": {
        "id": "jKRnh-DbpzBj",
        "colab_type": "code",
        "colab": {
          "base_uri": "https://localhost:8080/",
          "height": 180
        },
        "outputId": "04b2babe-4507-4279-8cfc-64e62f3c20cf"
      }
    },
    {
      "cell_type": "code",
      "execution_count": 30,
      "source": [
        "#Contagem de determinado elemento na tupla\r\n",
        "tp.count(\"Maçã\")"
      ],
      "outputs": [
        {
          "output_type": "execute_result",
          "data": {
            "text/plain": [
              "1"
            ]
          },
          "metadata": {
            "tags": []
          },
          "execution_count": 30
        }
      ],
      "metadata": {
        "id": "a-KaNhePE0nb",
        "colab_type": "code",
        "colab": {
          "base_uri": "https://localhost:8080/",
          "height": 34
        },
        "outputId": "ddf3ebbd-355a-467e-d238-0c9601e07c61"
      }
    },
    {
      "cell_type": "code",
      "execution_count": 31,
      "source": [
        "#Print de determinados elementos da tupla\r\n",
        "tp[0:2]"
      ],
      "outputs": [
        {
          "output_type": "execute_result",
          "data": {
            "text/plain": [
              "('Banana', 'Maçã')"
            ]
          },
          "metadata": {
            "tags": []
          },
          "execution_count": 31
        }
      ],
      "metadata": {
        "id": "ntXTi7MaFAX7",
        "colab_type": "code",
        "colab": {
          "base_uri": "https://localhost:8080/",
          "height": 34
        },
        "outputId": "595f3409-7948-4919-cff4-787d350423b7"
      }
    },
    {
      "cell_type": "markdown",
      "source": [
        "# **Dicionários**"
      ],
      "metadata": {
        "id": "Q0Ltz4kcFQps",
        "colab_type": "text"
      }
    },
    {
      "cell_type": "code",
      "execution_count": null,
      "source": [
        "#Para criar um dicionário utilizamos as {}\r\n",
        "dc = {\"Maçã\":20, \"Banana\":10, \"Laranja\":15, \"Uva\":5} #Dicionários trabalham com o condeito chave e valor"
      ],
      "outputs": [],
      "metadata": {
        "id": "43OFknPUFO68",
        "colab_type": "code",
        "colab": {}
      }
    },
    {
      "cell_type": "code",
      "execution_count": 33,
      "source": [
        "#Print do dicionário\r\n",
        "dc"
      ],
      "outputs": [
        {
          "output_type": "execute_result",
          "data": {
            "text/plain": [
              "{'Banana': 10, 'Laranja': 15, 'Maçã': 20, 'Uva': 5}"
            ]
          },
          "metadata": {
            "tags": []
          },
          "execution_count": 33
        }
      ],
      "metadata": {
        "id": "dCH9PefxGBdZ",
        "colab_type": "code",
        "colab": {
          "base_uri": "https://localhost:8080/",
          "height": 34
        },
        "outputId": "4017b350-db9b-4404-8f2b-1d41d9e983bf"
      }
    },
    {
      "cell_type": "code",
      "execution_count": 34,
      "source": [
        "#Acessando o valor de um dicionário através da chave\r\n",
        "dc[\"Maçã\"]"
      ],
      "outputs": [
        {
          "output_type": "execute_result",
          "data": {
            "text/plain": [
              "20"
            ]
          },
          "metadata": {
            "tags": []
          },
          "execution_count": 34
        }
      ],
      "metadata": {
        "id": "iyGxfz72FxNa",
        "colab_type": "code",
        "colab": {
          "base_uri": "https://localhost:8080/",
          "height": 34
        },
        "outputId": "4e85b169-8639-4402-ddcf-5a954e6acd9f"
      }
    },
    {
      "cell_type": "code",
      "execution_count": 35,
      "source": [
        "#Atualizando o valor da Maçã\r\n",
        "dc[\"Maçã\"] = 25\r\n",
        "dc"
      ],
      "outputs": [
        {
          "output_type": "execute_result",
          "data": {
            "text/plain": [
              "{'Banana': 10, 'Laranja': 15, 'Maçã': 25, 'Uva': 5}"
            ]
          },
          "metadata": {
            "tags": []
          },
          "execution_count": 35
        }
      ],
      "metadata": {
        "id": "6WwkohdpF5Cq",
        "colab_type": "code",
        "colab": {
          "base_uri": "https://localhost:8080/",
          "height": 34
        },
        "outputId": "053f88f7-b499-47d5-c741-25f0a394e2c8"
      }
    },
    {
      "cell_type": "code",
      "execution_count": 36,
      "source": [
        "#Retornando todas as chaves do dicionário\r\n",
        "dc.keys()"
      ],
      "outputs": [
        {
          "output_type": "execute_result",
          "data": {
            "text/plain": [
              "dict_keys(['Maçã', 'Banana', 'Laranja', 'Uva'])"
            ]
          },
          "metadata": {
            "tags": []
          },
          "execution_count": 36
        }
      ],
      "metadata": {
        "id": "_50MV-XaGFae",
        "colab_type": "code",
        "colab": {
          "base_uri": "https://localhost:8080/",
          "height": 34
        },
        "outputId": "53879989-4805-4017-f5a9-9294ba60d86a"
      }
    },
    {
      "cell_type": "code",
      "execution_count": 37,
      "source": [
        "#Retornando os valores do dicionário\r\n",
        "dc.values()"
      ],
      "outputs": [
        {
          "output_type": "execute_result",
          "data": {
            "text/plain": [
              "dict_values([25, 10, 15, 5])"
            ]
          },
          "metadata": {
            "tags": []
          },
          "execution_count": 37
        }
      ],
      "metadata": {
        "id": "AHLXfikMGRS4",
        "colab_type": "code",
        "colab": {
          "base_uri": "https://localhost:8080/",
          "height": 34
        },
        "outputId": "1beaa637-f1dd-4122-80a5-5d317c993943"
      }
    },
    {
      "cell_type": "code",
      "execution_count": 38,
      "source": [
        "#Verificando se já existe uma chave no dicionário e caso não exista inserir\r\n",
        "dc.setdefault(\"Limão\", 22)"
      ],
      "outputs": [
        {
          "output_type": "execute_result",
          "data": {
            "text/plain": [
              "22"
            ]
          },
          "metadata": {
            "tags": []
          },
          "execution_count": 38
        }
      ],
      "metadata": {
        "id": "co2yQ4IrGX8n",
        "colab_type": "code",
        "colab": {
          "base_uri": "https://localhost:8080/",
          "height": 34
        },
        "outputId": "f8f5dc72-2f3d-433b-c54b-cea91173e306"
      }
    },
    {
      "cell_type": "code",
      "execution_count": 39,
      "source": [
        "#Print do novo dicionário\r\n",
        "dc"
      ],
      "outputs": [
        {
          "output_type": "execute_result",
          "data": {
            "text/plain": [
              "{'Banana': 10, 'Laranja': 15, 'Limão': 22, 'Maçã': 25, 'Uva': 5}"
            ]
          },
          "metadata": {
            "tags": []
          },
          "execution_count": 39
        }
      ],
      "metadata": {
        "id": "M9_v4jAZGyz6",
        "colab_type": "code",
        "colab": {
          "base_uri": "https://localhost:8080/",
          "height": 34
        },
        "outputId": "e8754510-9f3c-4560-c4c1-133cbc06cf9b"
      }
    }
  ]
}